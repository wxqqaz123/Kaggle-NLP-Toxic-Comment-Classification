{
 "cells": [
  {
   "cell_type": "code",
   "execution_count": 1,
   "metadata": {},
   "outputs": [
    {
     "name": "stdout",
     "output_type": "stream",
     "text": [
      "(159571, 10000)\n"
     ]
    }
   ],
   "source": [
    "import pandas as pd\n",
    "import numpy as np\n",
    "from xgboost import XGBClassifier\n",
    "from sklearn.feature_extraction.text import TfidfVectorizer\n",
    "from sklearn.model_selection import GridSearchCV,StratifiedKFold\n",
    "import warnings\n",
    "warnings.filterwarnings('ignore')\n",
    "\n",
    "cls = ['toxic', 'severe_toxic', 'obscene', 'threat', 'insult', 'identity_hate']\n",
    "\n",
    "train = pd.read_csv(r\"train.csv\").fillna(\"NA\")\n",
    "test = pd.read_csv(r\"test.csv\").fillna(\"NA\")\n",
    "train_text = train[\"comment_text\"]\n",
    "test_text = test[\"comment_text\"]\n",
    "all_text = pd.concat([train_text, test_text])\n",
    "\n",
    "word_vectorizer = TfidfVectorizer(\n",
    "    sublinear_tf=True,\n",
    "    strip_accents='unicode',\n",
    "    analyzer='word',\n",
    "    token_pattern=r'\\w{1,}',\n",
    "    stop_words='english',\n",
    "    ngram_range=(1, 1),\n",
    "    max_features=10000)\n",
    "\n",
    "word_vectorizer.fit(all_text)\n",
    "train_word_features = word_vectorizer.transform(train_text)\n",
    "test_word_features = word_vectorizer.transform(test_text)\n",
    "print(train_word_features.shape)"
   ]
  },
  {
   "cell_type": "code",
   "execution_count": 8,
   "metadata": {},
   "outputs": [
    {
     "name": "stdout",
     "output_type": "stream",
     "text": [
      "Best Score 0.9490041326648591 for class toxic\n",
      "Best Score 0.9794065285799093 for class severe_toxic\n",
      "Best Score 0.9805609330813553 for class obscene\n",
      "Best Score 0.9649650344498788 for class threat\n",
      "Best Score 0.9667239147287798 for class insult\n",
      "Best Score 0.9622063732136337 for class identity_hate\n",
      "Mean ROC AUC Score: 0.9671444861197359\n"
     ]
    }
   ],
   "source": [
    "scores=[]\n",
    "for cl in cls:\n",
    "    target = train[cl]\n",
    "    xgboost = XGBClassifier()\n",
    "    parms= {}\n",
    "    XGB=GridSearchCV(xgboost,param_grid=parms,cv=StratifiedKFold(5),scoring='roc_auc')\n",
    "    XGB.fit(train_word_features,target)\n",
    "    print(r\"Best Score\",XGB.best_score_,f\"for class {cl}\")\n",
    "    scores.append(XGB.best_score_)\n",
    "print(f\"Mean ROC AUC Score: {np.mean(scores)}\")"
   ]
  },
  {
   "cell_type": "code",
   "execution_count": null,
   "metadata": {},
   "outputs": [],
   "source": []
  }
 ],
 "metadata": {
  "kernelspec": {
   "display_name": "Python 3",
   "language": "python",
   "name": "python3"
  },
  "language_info": {
   "codemirror_mode": {
    "name": "ipython",
    "version": 3
   },
   "file_extension": ".py",
   "mimetype": "text/x-python",
   "name": "python",
   "nbconvert_exporter": "python",
   "pygments_lexer": "ipython3",
   "version": "3.7.3"
  }
 },
 "nbformat": 4,
 "nbformat_minor": 2
}
